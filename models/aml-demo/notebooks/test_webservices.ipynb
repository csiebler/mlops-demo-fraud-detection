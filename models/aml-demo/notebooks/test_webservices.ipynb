{
 "cells": [
  {
   "cell_type": "markdown",
   "metadata": {},
   "source": [
    "# Test against production environment"
   ]
  },
  {
   "cell_type": "code",
   "execution_count": null,
   "metadata": {},
   "outputs": [],
   "source": [
    "url = 'http://52.167.61.113:80/api/v1/service/aml-demo-deployment-aks/score'\n",
    "key = ''"
   ]
  },
  {
   "cell_type": "code",
   "execution_count": 7,
   "metadata": {},
   "outputs": [
    {
     "output_type": "stream",
     "name": "stdout",
     "text": [
      "Prediction (not_fraud, fraud): {\"predict_proba\": [[0.9976495195733895, 0.0023504804266104395]]}\n"
     ]
    }
   ],
   "source": [
    "import requests\n",
    "import json\n",
    "\n",
    "test_data = {\n",
    "  'data': [{\n",
    "    \"type\": \"CASH_OUT\",\n",
    "    \"amount\": 181.00,\n",
    "    \"oldbalanceOrg\": 181.0,\n",
    "    \"newbalanceOrig\": 0.00,\n",
    "    \"oldbalanceDest\": 21182.0,\n",
    "    \"newbalanceDest\": 0.0,\n",
    "  }]\n",
    "}\n",
    "\n",
    "headers = {'Content-Type': 'application/json', 'Authorization': 'Bearer ' + key}\n",
    "resp = requests.post(url, json=test_data, headers=headers)\n",
    "\n",
    "print(\"Prediction (not_fraud, fraud):\", resp.text)"
   ]
  },
  {
   "cell_type": "code",
   "execution_count": null,
   "metadata": {
    "tags": [
     "outputPrepend"
    ]
   },
   "outputs": [],
   "source": [
    "import requests\n",
    "import json\n",
    "import random\n",
    "import time\n",
    "\n",
    "# Generating random data - data does not make sense!\n",
    "for i in range(1, 1000):\n",
    "    amount = random.randint(1, 5000)\n",
    "    balance = random.randint(5000, 20000)\n",
    "    balance_dest = random.randint(0, 20000)\n",
    "    test_data = {\n",
    "    'data': [{\n",
    "        \"type\": random.choice([\"CASH_OUT\", \"PAYMENT\", \"TRANSFER\"]),\n",
    "        \"amount\": amount,\n",
    "        \"oldbalanceOrg\": balance,\n",
    "        \"newbalanceOrig\": balance - amount,\n",
    "        \"oldbalanceDest\": balance_dest,\n",
    "        \"newbalanceDest\": balance_dest + amount,\n",
    "    }]\n",
    "    }\n",
    "\n",
    "    headers = {'Content-Type': 'application/json', 'Authorization': 'Bearer ' + key}\n",
    "    resp = requests.post(url, json=test_data, headers=headers)\n",
    "\n",
    "    print(\"Prediction (not_fraud, fraud):\", resp.text)\n",
    "\n",
    "    time.sleep(1) # Just so the realtime dashboard looks nicer :)"
   ]
  },
  {
   "cell_type": "code",
   "execution_count": null,
   "metadata": {},
   "outputs": [],
   "source": []
  }
 ],
 "metadata": {
  "kernelspec": {
   "display_name": "Python 3.6 - AzureML",
   "language": "python",
   "name": "python3-azureml"
  },
  "language_info": {
   "codemirror_mode": {
    "name": "ipython",
    "version": 3
   },
   "file_extension": ".py",
   "mimetype": "text/x-python",
   "name": "python",
   "nbconvert_exporter": "python",
   "pygments_lexer": "ipython3",
   "version": "3.7.9-final"
  }
 },
 "nbformat": 4,
 "nbformat_minor": 4
}